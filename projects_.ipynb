{
  "cells": [
    {
      "cell_type": "markdown",
      "metadata": {
        "id": "view-in-github",
        "colab_type": "text"
      },
      "source": [
        "<a href=\"https://colab.research.google.com/github/rkpcode/Mini-Project-Student-Performance-Analysis-Using-Pandas-/blob/main/projects_.ipynb\" target=\"_parent\"><img src=\"https://colab.research.google.com/assets/colab-badge.svg\" alt=\"Open In Colab\"/></a>"
      ]
    },
    {
      "cell_type": "code",
      "execution_count": null,
      "metadata": {
        "id": "WapS8AfUCDRo"
      },
      "outputs": [],
      "source": [
        "\n",
        "\n",
        "import numpy as np\n",
        "import pandas as pd\n",
        "\n",
        "df = kdf = pd.read_csv('/content/drive/MyDrive/Colab Notebooks/Files for practice /hotel_bookings.csv')"
      ]
    },
    {
      "cell_type": "code",
      "execution_count": null,
      "metadata": {
        "colab": {
          "base_uri": "https://localhost:8080/"
        },
        "id": "EAUHQy8NJ4Cl",
        "outputId": "a1a9e59f-e75a-455f-e33a-f2fcecb72035"
      },
      "outputs": [
        {
          "output_type": "stream",
          "name": "stdout",
          "text": [
            "             Math    English    Science\n",
            "Gender                                 \n",
            "F       75.191667  76.574897  71.726625\n",
            "M       75.468182  74.081818  75.139623\n",
            "    StudentID    Name Gender      Math    English    Science  Attendance  \\\n",
            "48        149    Ravi      F  90.00000  75.203704  98.000000   79.711538   \n",
            "30        131    Neha      M  75.34375  93.000000  89.000000   79.711538   \n",
            "87        188  Anjali      M  78.00000  75.203704  95.000000   90.000000   \n",
            "38        139    Neha      M  88.00000  94.000000  64.000000   88.000000   \n",
            "95        196    Amit      M  75.34375  97.000000  73.603774   79.711538   \n",
            "..        ...     ...    ...       ...        ...        ...         ...   \n",
            "51        152    Ravi      F  51.00000  77.000000  72.000000   79.711538   \n",
            "49        150   Suman      M  88.00000  51.000000  52.000000   96.000000   \n",
            "54        155   Meena      F  55.00000  75.203704  53.000000   70.000000   \n",
            "33        134   Rohit      M  50.00000  54.000000  75.000000   73.000000   \n",
            "15        116   Rohit      F  53.00000  51.000000  55.000000   63.000000   \n",
            "\n",
            "   Grade       Total  Avrage_Score  \n",
            "48     C  263.203704     87.734568  \n",
            "30     C  257.343750     85.781250  \n",
            "87     B  248.203704     82.734568  \n",
            "38     C  246.000000     82.000000  \n",
            "95     B  245.947524     81.982508  \n",
            "..   ...         ...           ...  \n",
            "51     C  200.000000     66.666667  \n",
            "49     B  191.000000     63.666667  \n",
            "54     B  183.203704     61.067901  \n",
            "33     A  179.000000     59.666667  \n",
            "15     C  159.000000     53.000000  \n",
            "\n",
            "[100 rows x 10 columns]\n",
            "    StudentID  Name  Avrage_Score\n",
            "48        149  Ravi     87.734568\n"
          ]
        }
      ],
      "source": [
        "\n",
        "import pandas as pd\n",
        "import numpy as np\n",
        "df = pd.read_csv('/content/drive/MyDrive/Colab Notebooks/Files for practice /student_scores_large.csv')\n",
        "df.isnull().sum()\n",
        "mvc = ['Math','English','Science','Attendance']\n",
        "\n",
        "#removing '%' from value\n",
        "df ['Attendance'] =df ['Attendance'].str.strip('%')\n",
        "\n",
        "# convert the missing value column to numeric column change the data type to float\n",
        "for i in mvc :\n",
        "    df[i] = pd.to_numeric(df[i], errors = 'coerce' )\n",
        "\n",
        "#filling missing value with mean\n",
        "\n",
        "for col in mvc :\n",
        "    df[col] = df[col].fillna(df[col].mean())\n",
        "\n",
        "#create a column 'Total' and avg score\n",
        "\n",
        "df['Total'] = df [['Math','English','Science']].sum(axis = 1, skipna = True)\n",
        "df ['Avrage_Score'] = df [['Math','English','Science']].mean(axis = 1, skipna = True)\n",
        "#print (df.tail(5))\n",
        "#Group by Gender:Find average scores per subject.\n",
        "\n",
        "Avg = df.groupby('Gender')[['Math','English','Science']].mean()\n",
        "print (Avg)\n",
        "\n",
        "#Sort students by average score (descending).\n",
        "\n",
        "sorted_value = df.sort_values('Avrage_Score', ascending=False)\n",
        "print (sorted_value)\n",
        "\n",
        "#top performer\n",
        "\n",
        "print (sorted_value[['StudentID','Name','Avrage_Score']].head(1))\n",
        "\n",
        "# Export the cleaned DataFrame to a new CSV file\n",
        "df.to_csv(\"student_scores_cleaned.csv\", index=False)"
      ]
    }
  ],
  "metadata": {
    "colab": {
      "provenance": [],
      "mount_file_id": "1jrV_7ixyiLa3dwMHgSF7YnByNCxK3K2P",
      "authorship_tag": "ABX9TyPFh5ZrC5uWRL1FXABkggd4",
      "include_colab_link": true
    },
    "kernelspec": {
      "display_name": "Python 3",
      "name": "python3"
    },
    "language_info": {
      "name": "python"
    }
  },
  "nbformat": 4,
  "nbformat_minor": 0
}